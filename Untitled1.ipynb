{
  "nbformat": 4,
  "nbformat_minor": 0,
  "metadata": {
    "colab": {
      "name": "Untitled1.ipynb",
      "provenance": [],
      "collapsed_sections": []
    },
    "kernelspec": {
      "name": "python3",
      "display_name": "Python 3"
    }
  },
  "cells": [
    {
      "cell_type": "code",
      "metadata": {
        "id": "lekZXnGHPad2",
        "colab_type": "code",
        "colab": {}
      },
      "source": [
        "import matplotlib.colorbar as cbar\n",
        "import pylab as pl\n",
        "import numpy as np"
      ],
      "execution_count": 1,
      "outputs": []
    },
    {
      "cell_type": "code",
      "metadata": {
        "id": "htsN3XgxO6os",
        "colab_type": "code",
        "colab": {}
      },
      "source": [
        "def f1(points):\n",
        "  m_points = np.copy(points)\n",
        "\n",
        "  for i in range(m_points.shape[0]):\n",
        "    m_points[i][0] = m_points[i][0]*0.5 + 0.5\n",
        "    m_points[i][1] = m_points[i][1]*(-0.5) + 1.0\n",
        "\n",
        "  return m_points"
      ],
      "execution_count": 2,
      "outputs": []
    },
    {
      "cell_type": "code",
      "metadata": {
        "id": "qbgr6Z18Ukkq",
        "colab_type": "code",
        "colab": {}
      },
      "source": [
        "def f2(points):\n",
        "  m_points = np.copy(points)\n",
        "\n",
        "  for i in range(m_points.shape[0]):\n",
        "    temp_x = m_points[i][0]\n",
        "    m_points[i][0] = m_points[i][1]*0.5\n",
        "    m_points[i][1] = temp_x*0.5\n",
        "\n",
        "  return m_points"
      ],
      "execution_count": 3,
      "outputs": []
    },
    {
      "cell_type": "code",
      "metadata": {
        "id": "Ob_RutLeVIww",
        "colab_type": "code",
        "colab": {}
      },
      "source": [
        "def f3(points):\n",
        "  m_points = np.copy(points)\n",
        "\n",
        "  for i in range(m_points.shape[0]):\n",
        "    m_points[i][0] = m_points[i][0]*(-0.5) + 0.5\n",
        "    m_points[i][1] = m_points[i][1]*0.5 + 0.5\n",
        "\n",
        "  return m_points"
      ],
      "execution_count": 4,
      "outputs": []
    },
    {
      "cell_type": "code",
      "metadata": {
        "id": "-mFE_2B1pWBw",
        "colab_type": "code",
        "colab": {}
      },
      "source": [
        "def orbit(point):\n",
        "\n",
        "  m_point = np.copy(point)\n",
        "\n",
        "  index = 1\n",
        "  if(point[0] < 0.5):\n",
        "    if(point[1] < 0.5):\n",
        "      index = 2\n",
        "    else:\n",
        "      index = 3\n",
        "  else:\n",
        "    if(point[1] >= 0.5):\n",
        "      index = 1\n",
        "    else:\n",
        "      index = 0\n",
        "\n",
        "  if(index == 1):\n",
        "    m_point[0] = m_point[0]*2.0 - 1.0\n",
        "    m_point[1] = m_point[1]*(-2.0) + 2.0\n",
        "  if(index == 2):\n",
        "    temp_x = m_point[0]\n",
        "    m_point[0] = m_point[1]*2.0\n",
        "    m_point[1] = temp_x*2.0\n",
        "  if(index == 3):\n",
        "    m_point[0] = m_point[0]*(-2.0) + 1.0\n",
        "    m_point[1] = m_point[1]*(-2.0) - 1.0\n",
        "\n",
        "  return m_point"
      ],
      "execution_count": 5,
      "outputs": []
    },
    {
      "cell_type": "code",
      "metadata": {
        "id": "zAv_dE6BOzra",
        "colab_type": "code",
        "colab": {}
      },
      "source": [
        "def fractal_iterate(points):\n",
        "  points_1 = np.zeros(shape=(0,2))\n",
        "  points_2 = np.zeros(shape=(0,2))\n",
        "  points_3 = np.zeros(shape=(0,2))\n",
        "\n",
        "  points_1 = f1(points)\n",
        "  points_2 = f2(points)\n",
        "  points_3 = f3(points)\n",
        "\n",
        "  final_points = np.concatenate((points_1,points_2,points_3))\n",
        "  return final_points\n"
      ],
      "execution_count": 6,
      "outputs": []
    },
    {
      "cell_type": "code",
      "metadata": {
        "id": "u8AExiSU5DGj",
        "colab_type": "code",
        "colab": {
          "base_uri": "https://localhost:8080/",
          "height": 537
        },
        "outputId": "b56357ba-9e1b-4c99-bdd1-7f620c3ae2ae"
      },
      "source": [
        "\n",
        "\n",
        "ld = np.array([[0.0, 0.0]]);\n",
        "rd = np.array([[1.0, 0.0]]);\n",
        "lu = np.array([[0.0, 1.0]]);\n",
        "ru = np.array([[1.0, 1.0]]);\n",
        "\n",
        "N = 8 # количество итераций\n",
        "for i in range(N):\n",
        "  ld = fractal_iterate(ld)\n",
        "  rd = fractal_iterate(rd)\n",
        "  lu = fractal_iterate(lu)\n",
        "  ru = fractal_iterate(ru)\n",
        "\n",
        "from matplotlib.pyplot import figure\n",
        "figure(num=None, figsize=(10, 8), dpi=80, facecolor='w', edgecolor='k')\n",
        "\n",
        "vs = np.random.randn(ld.shape[0])\n",
        "normal = pl.Normalize(vs.min(), vs.max())\n",
        "colors = pl.cm.jet(normal(vs))\n",
        "\n",
        "plot_size = 1\n",
        "\n",
        "ax = pl.subplot(111)\n",
        "for i in range(ld.shape[0]):\n",
        "    rect = pl.Rectangle((ld[i][0]*plot_size,ld[i][1]*plot_size),\n",
        "                        (ru[i][0]-ld[i][0])*plot_size,\n",
        "                        (ru[i][1]-ld[i][1])*plot_size,color=\"0.4\")\n",
        "    ax.add_patch(rect)\n",
        "\n",
        "cax, _ = cbar.make_axes(ax) \n",
        "cb2 = cbar.ColorbarBase(cax, cmap=pl.cm.jet,norm=normal) \n",
        "\n",
        "ax.set_xlim(0,plot_size)\n",
        "ax.set_ylim(0,plot_size)\n",
        "\n",
        "x0 = 5.0/7.0 + 0.005\n",
        "y0 = 6.0/7.0\n",
        "'''\n",
        "orbit_points = np.array([[x0, y0]]);\n",
        "for i in range(6):\n",
        "  orbit_points = np.append(orbit_points,[orbit(orbit_points[len(orbit_points)-1])],axis=0)\n",
        "for i in range(7):\n",
        "  ax.annotate(i,(orbit_points[i,0],orbit_points[i,1]))\n",
        "ax.scatter(orbit_points[:,0],orbit_points[:,1],c = 'deeppink')\n",
        "'''\n",
        "\n",
        "pl.show()\n",
        "\n"
      ],
      "execution_count": 9,
      "outputs": [
        {
          "output_type": "display_data",
          "data": {
            "image/png": "[encoded data removed]",
            "text/plain": [
              "<Figure size 800x640 with 2 Axes>"
            ]
          },
          "metadata": {
            "tags": []
          }
        }
      ]
    },
    {
      "cell_type": "code",
      "metadata": {
        "id": "0FgG-sAgrtmr",
        "colab_type": "code",
        "colab": {
          "base_uri": "https://localhost:8080/",
          "height": 139
        },
        "outputId": "bd511697-aa8d-4467-93ef-9b948c595534"
      },
      "source": [
        "orbit_points"
      ],
      "execution_count": null,
      "outputs": [
        {
          "output_type": "execute_result",
          "data": {
            "text/plain": [
              "array([[0.71928571, 0.85714286],\n",
              "       [0.43857143, 0.28571429],\n",
              "       [0.57142857, 0.87714286],\n",
              "       [0.14285714, 0.24571429],\n",
              "       [0.49142857, 0.28571429],\n",
              "       [0.57142857, 0.98285714],\n",
              "       [0.14285714, 0.03428571]])"
            ]
          },
          "metadata": {
            "tags": []
          },
          "execution_count": 184
        }
      ]
    },
    {
      "cell_type": "code",
      "metadata": {
        "id": "tzwT_sDr4-j1",
        "colab_type": "code",
        "colab": {
          "base_uri": "https://localhost:8080/",
          "height": 35
        },
        "outputId": "11a580b4-f4b8-4ba5-da99-7b57006dbffe"
      },
      "source": [
        "rec_width = pow(0.5,N)\n",
        "found = False\n",
        "for i in range(ld.shape[0]):\n",
        "  x1 = ld[i][0]\n",
        "  y1 = ld[i][1]\n",
        "  if(ru[i][0] < x1):\n",
        "    x1 = ru[i][0]\n",
        "  if(ru[i][1] < y1):\n",
        "    y1 = ru[i][1]\n",
        "  #проверяем принадлженость хотя бы одному квадратику\n",
        "  if(x0 >= x1 and y0 >= y1 and x0 <= x1+rec_width and y0 <= y1+rec_width): \n",
        "    print(\"point in S6\")\n",
        "    found = True\n",
        "    break\n",
        "if(not found):\n",
        "  print(\"point not in S6\")"
      ],
      "execution_count": null,
      "outputs": [
        {
          "output_type": "stream",
          "text": [
            "point in S6\n"
          ],
          "name": "stdout"
        }
      ]
    }
  ]
}